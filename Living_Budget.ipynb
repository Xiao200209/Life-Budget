{
  "nbformat": 4,
  "nbformat_minor": 0,
  "metadata": {
    "colab": {
      "provenance": []
    },
    "kernelspec": {
      "name": "python3",
      "display_name": "Python 3"
    },
    "language_info": {
      "name": "python"
    }
  },
  "cells": [
    {
      "cell_type": "code",
      "source": [
        "pip install numpy_financial"
      ],
      "metadata": {
        "colab": {
          "base_uri": "https://localhost:8080/"
        },
        "id": "3pX_4Pzy8dx_",
        "outputId": "02686491-114c-4501-bb98-70abe2cfd934"
      },
      "execution_count": 6,
      "outputs": [
        {
          "output_type": "stream",
          "name": "stdout",
          "text": [
            "Collecting numpy_financial\n",
            "  Downloading numpy_financial-1.0.0-py3-none-any.whl.metadata (2.2 kB)\n",
            "Requirement already satisfied: numpy>=1.15 in /usr/local/lib/python3.11/dist-packages (from numpy_financial) (1.26.4)\n",
            "Downloading numpy_financial-1.0.0-py3-none-any.whl (14 kB)\n",
            "Installing collected packages: numpy_financial\n",
            "Successfully installed numpy_financial-1.0.0\n"
          ]
        }
      ]
    },
    {
      "cell_type": "code",
      "execution_count": 17,
      "metadata": {
        "colab": {
          "base_uri": "https://localhost:8080/"
        },
        "id": "Q_563CoN8BWd",
        "outputId": "28af0ecf-ddfc-46bc-e547-9cb0a65e0f9e"
      },
      "outputs": [
        {
          "output_type": "stream",
          "name": "stdout",
          "text": [
            "You will have to invest $3214.35 per month to amass $1000000 over 15 years\n"
          ]
        }
      ],
      "source": [
        "# How much you need to invest montly to become a millionaire after decades?\n",
        "import numpy_financial as npf\n",
        "\n",
        "# Set period and targeted future value\n",
        "forecast_year = 15\n",
        "forecast_months = forecast_year*12\n",
        "future_value = 1000000\n",
        "\n",
        "# Set the annual investment return\n",
        "investment_rate_annual = 7/100\n",
        "# Calculate the monthly investment return\n",
        "investment_rate_monthly = (1+investment_rate_annual)**(1/12)-1\n",
        "\n",
        "# Calculate your required monthly investment to amass targeted wealth\n",
        "required_investment_monthly = npf.pmt(rate=investment_rate_monthly,\n",
        "                                      nper=forecast_months, pv=0,\n",
        "                                      fv=-1*future_value )\n",
        "print(\"You will have to invest $\" + str(round(required_investment_monthly, 2)) +\n",
        "      \" per month to amass $\" +str(future_value) + \" over \"\n",
        " +str(forecast_year) + \" years\")\n",
        "\n"
      ]
    },
    {
      "cell_type": "code",
      "source": [
        "# How much you will gain if you invest right now?\n",
        "\n",
        "annual_return = 8/100\n",
        "forecast_year = 10 # years\n",
        "present_value = 100000\n",
        "monthly_investment = 10000 # following cash inflow\n",
        "\n",
        "\n",
        "future_value = npf.fv(rate = annual_return , nper = forecast_periods, pv=-1*present_value, pmt = -1*monthly_investment)\n",
        "\n",
        "print(\"You will have $\" + str(round(future_value, 2)) +\" after \"+ str(forecast_year)+\" years\"\n",
        "      \", if you invest $\" +str(present_value) + \" right now and continously invest $\"\n",
        " +str(monthly_investment) + \" monthly.\")"
      ],
      "metadata": {
        "colab": {
          "base_uri": "https://localhost:8080/"
        },
        "id": "bL_4uUCj8ola",
        "outputId": "8f9ae27d-7c5f-4d57-e08a-4bb6bf14a384"
      },
      "execution_count": 18,
      "outputs": [
        {
          "output_type": "stream",
          "name": "stdout",
          "text": [
            "You will have $360758.12 after 10 years, if you invest $100000 right now and continously invest $10000 monthly.\n"
          ]
        }
      ]
    }
  ]
}